{
 "cells": [
  {
   "cell_type": "code",
   "execution_count": 1,
   "id": "cfa788ca",
   "metadata": {},
   "outputs": [],
   "source": [
    "import numpy as np\n",
    "import pandas as pd\n",
    "from sklearn.preprocessing import LabelEncoder\n",
    "\n",
    "import tensorflow as tf\n",
    "from tensorflow import keras\n",
    "from tensorflow.keras.preprocessing.text import Tokenizer\n",
    "from tensorflow.keras.preprocessing.sequence import pad_sequences"
   ]
  },
  {
   "cell_type": "code",
   "execution_count": 2,
   "id": "79392a96",
   "metadata": {},
   "outputs": [],
   "source": [
    "data=pd.read_csv(r\"D:\\Imarticus\\Capstone 2\\complaints_processed.csv\")\n",
    "df = data.dropna(axis=0)"
   ]
  },
  {
   "cell_type": "code",
   "execution_count": 3,
   "id": "345c96f5",
   "metadata": {},
   "outputs": [],
   "source": [
    "texts = df['narrative'].values"
   ]
  },
  {
   "cell_type": "code",
   "execution_count": 4,
   "id": "b9661fe0",
   "metadata": {},
   "outputs": [],
   "source": [
    "le = LabelEncoder()\n",
    "\n",
    "labels = le.fit_transform(df['product'])\n",
    "\n",
    "labels = keras.utils.to_categorical(labels)"
   ]
  },
  {
   "cell_type": "code",
   "execution_count": 7,
   "id": "f6c4fa5c",
   "metadata": {},
   "outputs": [
    {
     "data": {
      "text/plain": [
       "(162411,)"
      ]
     },
     "execution_count": 7,
     "metadata": {},
     "output_type": "execute_result"
    }
   ],
   "source": [
    "texts.shape"
   ]
  },
  {
   "cell_type": "code",
   "execution_count": 8,
   "id": "4433aa0c",
   "metadata": {},
   "outputs": [
    {
     "data": {
      "text/plain": [
       "(162411, 5)"
      ]
     },
     "execution_count": 8,
     "metadata": {},
     "output_type": "execute_result"
    }
   ],
   "source": [
    "labels.shape"
   ]
  },
  {
   "cell_type": "code",
   "execution_count": 19,
   "id": "deb1cb7c",
   "metadata": {},
   "outputs": [],
   "source": [
    "# Split the data into training, validation, and test sets\n",
    "\n",
    "train_ratio, val_ratio, test_ratio = 0.7, 0.15, 0.15\n",
    "total_samples = len(texts)\n",
    "train_size = int(train_ratio * total_samples)\n",
    "val_size = int(val_ratio * total_samples)"
   ]
  },
  {
   "cell_type": "code",
   "execution_count": 20,
   "id": "78aa9707",
   "metadata": {},
   "outputs": [],
   "source": [
    "x_train, y_train = texts[:train_size], labels[:train_size]\n",
    "x_val, y_val = texts[train_size:train_size+val_size], labels[train_size:train_size+val_size]\n",
    "x_test, y_test = texts[train_size+val_size:], labels[train_size+val_size:]"
   ]
  },
  {
   "cell_type": "code",
   "execution_count": 21,
   "id": "a294b641",
   "metadata": {},
   "outputs": [],
   "source": [
    "# Tokenize the text data\n",
    "\n",
    "tokenizer = Tokenizer()\n",
    "tokenizer.fit_on_texts(x_train)\n",
    "vocab_size = len(tokenizer.word_index) + 1"
   ]
  },
  {
   "cell_type": "code",
   "execution_count": 22,
   "id": "de7a333b",
   "metadata": {},
   "outputs": [],
   "source": [
    "x_train = tokenizer.texts_to_sequences(x_train)\n",
    "x_val = tokenizer.texts_to_sequences(x_val)\n",
    "x_test = tokenizer.texts_to_sequences(x_test)"
   ]
  },
  {
   "cell_type": "code",
   "execution_count": 23,
   "id": "d46a8b20",
   "metadata": {},
   "outputs": [],
   "source": [
    "max_sequence_length = 100  # Define your desired sequence length\n",
    "x_train = pad_sequences(x_train, maxlen=max_sequence_length)\n",
    "x_val = pad_sequences(x_val, maxlen=max_sequence_length)\n",
    "x_test = pad_sequences(x_test, maxlen=max_sequence_length)"
   ]
  },
  {
   "cell_type": "code",
   "execution_count": 24,
   "id": "4d29a5f4",
   "metadata": {},
   "outputs": [],
   "source": [
    "# Define the RNN model\n",
    "model = keras.Sequential([\n",
    "    keras.layers.Embedding(input_dim = vocab_size, output_dim = 100, input_length = max_sequence_length),\n",
    "    keras.layers.LSTM(128),\n",
    "    keras.layers.Dense(5, activation='softmax')\n",
    "])"
   ]
  },
  {
   "cell_type": "code",
   "execution_count": 25,
   "id": "ac8bb67a",
   "metadata": {},
   "outputs": [],
   "source": [
    "# Compile the model\n",
    "model.compile(optimizer='adam', loss='categorical_crossentropy', metrics=['accuracy'])"
   ]
  },
  {
   "cell_type": "code",
   "execution_count": 26,
   "id": "80b67692",
   "metadata": {},
   "outputs": [
    {
     "name": "stdout",
     "output_type": "stream",
     "text": [
      "Epoch 1/10\n",
      "1777/1777 [==============================] - 679s 380ms/step - loss: 0.5761 - accuracy: 0.7989 - val_loss: 0.5176 - val_accuracy: 0.8257\n",
      "Epoch 2/10\n",
      "1777/1777 [==============================] - 620s 349ms/step - loss: 0.3763 - accuracy: 0.8740 - val_loss: 0.4778 - val_accuracy: 0.8366\n",
      "Epoch 3/10\n",
      "1777/1777 [==============================] - 750s 422ms/step - loss: 0.3171 - accuracy: 0.8931 - val_loss: 0.5119 - val_accuracy: 0.8246\n",
      "Epoch 4/10\n",
      "1777/1777 [==============================] - 487s 274ms/step - loss: 0.2711 - accuracy: 0.9086 - val_loss: 0.4767 - val_accuracy: 0.8403\n",
      "Epoch 5/10\n",
      "1777/1777 [==============================] - 550s 309ms/step - loss: 0.2311 - accuracy: 0.9217 - val_loss: 0.5111 - val_accuracy: 0.8367\n",
      "Epoch 6/10\n",
      "1777/1777 [==============================] - 443s 249ms/step - loss: 0.1947 - accuracy: 0.9343 - val_loss: 0.5694 - val_accuracy: 0.8307\n",
      "Epoch 7/10\n",
      "1777/1777 [==============================] - 456s 256ms/step - loss: 0.1633 - accuracy: 0.9451 - val_loss: 0.6276 - val_accuracy: 0.8248\n",
      "Epoch 8/10\n",
      "1777/1777 [==============================] - 467s 263ms/step - loss: 0.1356 - accuracy: 0.9551 - val_loss: 0.6713 - val_accuracy: 0.8234\n",
      "Epoch 9/10\n",
      "1777/1777 [==============================] - 470s 264ms/step - loss: 0.1138 - accuracy: 0.9620 - val_loss: 0.7410 - val_accuracy: 0.8198\n",
      "Epoch 10/10\n",
      "1777/1777 [==============================] - 471s 265ms/step - loss: 0.0961 - accuracy: 0.9682 - val_loss: 0.8374 - val_accuracy: 0.8190\n"
     ]
    },
    {
     "data": {
      "text/plain": [
       "<keras.src.callbacks.History at 0x27fdff20fd0>"
      ]
     },
     "execution_count": 26,
     "metadata": {},
     "output_type": "execute_result"
    }
   ],
   "source": [
    "# Train the model\n",
    "model.fit(x_train, y_train, validation_data=(x_val, y_val), epochs=10, batch_size=64)"
   ]
  },
  {
   "cell_type": "code",
   "execution_count": 27,
   "id": "a2039b95",
   "metadata": {},
   "outputs": [
    {
     "name": "stdout",
     "output_type": "stream",
     "text": [
      "762/762 [==============================] - 36s 47ms/step - loss: 0.7541 - accuracy: 0.8398\n",
      "Test accuracy: 0.8397570252418518\n"
     ]
    }
   ],
   "source": [
    "# Evaluate the model on the test set\n",
    "loss, accuracy = model.evaluate(x_test, y_test)\n",
    "print(f'Test accuracy: {accuracy}')"
   ]
  }
 ],
 "metadata": {
  "kernelspec": {
   "display_name": "Python 3 (ipykernel)",
   "language": "python",
   "name": "python3"
  },
  "language_info": {
   "codemirror_mode": {
    "name": "ipython",
    "version": 3
   },
   "file_extension": ".py",
   "mimetype": "text/x-python",
   "name": "python",
   "nbconvert_exporter": "python",
   "pygments_lexer": "ipython3",
   "version": "3.9.13"
  }
 },
 "nbformat": 4,
 "nbformat_minor": 5
}
