{
 "cells": [
  {
   "cell_type": "code",
   "execution_count": 1,
   "id": "bae7b537",
   "metadata": {},
   "outputs": [],
   "source": [
    "import numpy as np\n",
    "import pandas as pd\n",
    "import matplotlib.pyplot as plt\n",
    "import seaborn as sns"
   ]
  },
  {
   "cell_type": "code",
   "execution_count": 2,
   "id": "e69bf9c5",
   "metadata": {},
   "outputs": [
    {
     "data": {
      "text/html": [
       "<div>\n",
       "<style scoped>\n",
       "    .dataframe tbody tr th:only-of-type {\n",
       "        vertical-align: middle;\n",
       "    }\n",
       "\n",
       "    .dataframe tbody tr th {\n",
       "        vertical-align: top;\n",
       "    }\n",
       "\n",
       "    .dataframe thead th {\n",
       "        text-align: right;\n",
       "    }\n",
       "</style>\n",
       "<table border=\"1\" class=\"dataframe\">\n",
       "  <thead>\n",
       "    <tr style=\"text-align: right;\">\n",
       "      <th></th>\n",
       "      <th>Unnamed: 0</th>\n",
       "      <th>product</th>\n",
       "      <th>narrative</th>\n",
       "    </tr>\n",
       "  </thead>\n",
       "  <tbody>\n",
       "    <tr>\n",
       "      <th>0</th>\n",
       "      <td>0</td>\n",
       "      <td>credit_card</td>\n",
       "      <td>purchase order day shipping amount receive pro...</td>\n",
       "    </tr>\n",
       "    <tr>\n",
       "      <th>1</th>\n",
       "      <td>1</td>\n",
       "      <td>credit_card</td>\n",
       "      <td>forwarded message date tue subject please inve...</td>\n",
       "    </tr>\n",
       "    <tr>\n",
       "      <th>2</th>\n",
       "      <td>2</td>\n",
       "      <td>retail_banking</td>\n",
       "      <td>forwarded message cc sent friday pdt subject f...</td>\n",
       "    </tr>\n",
       "    <tr>\n",
       "      <th>3</th>\n",
       "      <td>3</td>\n",
       "      <td>credit_reporting</td>\n",
       "      <td>payment history missing credit report speciali...</td>\n",
       "    </tr>\n",
       "    <tr>\n",
       "      <th>4</th>\n",
       "      <td>4</td>\n",
       "      <td>credit_reporting</td>\n",
       "      <td>payment history missing credit report made mis...</td>\n",
       "    </tr>\n",
       "  </tbody>\n",
       "</table>\n",
       "</div>"
      ],
      "text/plain": [
       "   Unnamed: 0           product  \\\n",
       "0           0       credit_card   \n",
       "1           1       credit_card   \n",
       "2           2    retail_banking   \n",
       "3           3  credit_reporting   \n",
       "4           4  credit_reporting   \n",
       "\n",
       "                                           narrative  \n",
       "0  purchase order day shipping amount receive pro...  \n",
       "1  forwarded message date tue subject please inve...  \n",
       "2  forwarded message cc sent friday pdt subject f...  \n",
       "3  payment history missing credit report speciali...  \n",
       "4  payment history missing credit report made mis...  "
      ]
     },
     "execution_count": 2,
     "metadata": {},
     "output_type": "execute_result"
    }
   ],
   "source": [
    "data=pd.read_csv(r\"D:\\Imarticus\\Capstone 2\\complaints_processed.csv\")\n",
    "\n",
    "data.head()"
   ]
  },
  {
   "cell_type": "code",
   "execution_count": 3,
   "id": "fbd2abe8",
   "metadata": {},
   "outputs": [
    {
     "data": {
      "text/plain": [
       "array(['credit_card', 'retail_banking', 'credit_reporting',\n",
       "       'mortgages_and_loans', 'debt_collection'], dtype=object)"
      ]
     },
     "execution_count": 3,
     "metadata": {},
     "output_type": "execute_result"
    }
   ],
   "source": [
    "data['product'].unique()"
   ]
  },
  {
   "cell_type": "code",
   "execution_count": 4,
   "id": "80612844",
   "metadata": {},
   "outputs": [
    {
     "data": {
      "text/plain": [
       "Index(['Unnamed: 0', 'product', 'narrative'], dtype='object')"
      ]
     },
     "execution_count": 4,
     "metadata": {},
     "output_type": "execute_result"
    }
   ],
   "source": [
    "data.columns"
   ]
  },
  {
   "cell_type": "code",
   "execution_count": 5,
   "id": "0db97628",
   "metadata": {},
   "outputs": [
    {
     "data": {
      "image/png": "[encoded data removed]",
      "text/plain": [
       "<Figure size 640x480 with 1 Axes>"
      ]
     },
     "metadata": {},
     "output_type": "display_data"
    }
   ],
   "source": [
    "sns.countplot(data = data, y = \"product\", order = data['product'].value_counts().index)\n",
    "\n",
    "plt.show()"
   ]
  },
  {
   "cell_type": "code",
   "execution_count": 6,
   "id": "6bd0c0d2",
   "metadata": {},
   "outputs": [
    {
     "name": "stdout",
     "output_type": "stream",
     "text": [
      "Unnamed: 0  :  0\n",
      "product  :  0\n",
      "narrative  :  10\n"
     ]
    }
   ],
   "source": [
    "for i in data.columns:\n",
    "    print(i,' : ',data[i].isnull().sum())"
   ]
  },
  {
   "cell_type": "code",
   "execution_count": 7,
   "id": "4e040cb8",
   "metadata": {},
   "outputs": [],
   "source": [
    "df = data.dropna(axis=0)"
   ]
  },
  {
   "cell_type": "code",
   "execution_count": 8,
   "id": "7754f930",
   "metadata": {},
   "outputs": [
    {
     "data": {
      "text/plain": [
       "(162411, 3)"
      ]
     },
     "execution_count": 8,
     "metadata": {},
     "output_type": "execute_result"
    }
   ],
   "source": [
    "df.shape"
   ]
  },
  {
   "cell_type": "code",
   "execution_count": 9,
   "id": "a80c621b",
   "metadata": {},
   "outputs": [
    {
     "name": "stderr",
     "output_type": "stream",
     "text": [
      "[nltk_data] Error loading punkt: <urlopen error [WinError 10060] A\n",
      "[nltk_data]     connection attempt failed because the connected party\n",
      "[nltk_data]     did not properly respond after a period of time, or\n",
      "[nltk_data]     established connection failed because connected host\n",
      "[nltk_data]     has failed to respond>\n",
      "[nltk_data] Error loading stopwords: <urlopen error [WinError 10060] A\n",
      "[nltk_data]     connection attempt failed because the connected party\n",
      "[nltk_data]     did not properly respond after a period of time, or\n",
      "[nltk_data]     established connection failed because connected host\n",
      "[nltk_data]     has failed to respond>\n",
      "[nltk_data] Error loading wordnet: <urlopen error [WinError 10060] A\n",
      "[nltk_data]     connection attempt failed because the connected party\n",
      "[nltk_data]     did not properly respond after a period of time, or\n",
      "[nltk_data]     established connection failed because connected host\n",
      "[nltk_data]     has failed to respond>\n"
     ]
    }
   ],
   "source": [
    "import nltk\n",
    "from nltk.tokenize import word_tokenize\n",
    "from nltk.corpus import stopwords\n",
    "from nltk.stem import WordNetLemmatizer\n",
    "\n",
    "nltk.download('punkt')\n",
    "nltk.download('stopwords')\n",
    "nltk.download('wordnet')\n",
    "\n",
    "def text_clean(text, min_word_length=3):\n",
    "    # Tokenize the text\n",
    "    words = word_tokenize(text)\n",
    "\n",
    "    # Initialize lemmatizer\n",
    "    lemmatizer = WordNetLemmatizer()\n",
    "\n",
    "    # Define a set of stopwords\n",
    "    custom_stopwords = set(stopwords.words('english'))\n",
    "\n",
    "    clean_words = []\n",
    "    for word in words:\n",
    "        # Convert to lowercase and lemmatize\n",
    "        word = lemmatizer.lemmatize(word.lower())\n",
    "\n",
    "        # Check if word is alphabetic and not in custom stopwords\n",
    "        if word.isalpha() and len(word) >= min_word_length and word not in custom_stopwords:\n",
    "            clean_words.append(word)\n",
    "\n",
    "    return clean_words"
   ]
  },
  {
   "cell_type": "code",
   "execution_count": 10,
   "id": "8c5509a9",
   "metadata": {},
   "outputs": [
    {
     "data": {
      "text/plain": [
       "['purchase',\n",
       " 'order',\n",
       " 'day',\n",
       " 'shipping',\n",
       " 'amount',\n",
       " 'receive',\n",
       " 'product',\n",
       " 'week',\n",
       " 'sent',\n",
       " 'followup',\n",
       " 'email',\n",
       " 'exact',\n",
       " 'verbiage',\n",
       " 'paid',\n",
       " 'two',\n",
       " 'day',\n",
       " 'shipping',\n",
       " 'received',\n",
       " 'order',\n",
       " 'company',\n",
       " 'responded',\n",
       " 'sorry',\n",
       " 'inform',\n",
       " 'due',\n",
       " 'unusually',\n",
       " 'high',\n",
       " 'order',\n",
       " 'volume',\n",
       " 'order',\n",
       " 'shipped',\n",
       " 'several',\n",
       " 'week',\n",
       " 'stock',\n",
       " 'since',\n",
       " 'early',\n",
       " 'due',\n",
       " 'high',\n",
       " 'demand',\n",
       " 'although',\n",
       " 'continuing',\n",
       " 'take',\n",
       " 'order',\n",
       " 'guaranteeing',\n",
       " 'receive',\n",
       " 'order',\n",
       " 'place',\n",
       " 'due',\n",
       " 'time',\n",
       " 'mask',\n",
       " 'order',\n",
       " 'exact',\n",
       " 'shipping',\n",
       " 'date',\n",
       " 'right',\n",
       " 'however',\n",
       " 'guarantee',\n",
       " 'ship',\n",
       " 'soon',\n",
       " 'soon',\n",
       " 'delivers',\n",
       " 'product',\n",
       " 'getting',\n",
       " 'small',\n",
       " 'shipment',\n",
       " 'shipping',\n",
       " 'first',\n",
       " 'come',\n",
       " 'first',\n",
       " 'served',\n",
       " 'basis',\n",
       " 'appreciate',\n",
       " 'patience',\n",
       " 'fulfill',\n",
       " 'order',\n",
       " 'quickly',\n",
       " 'recommend',\n",
       " 'keeping',\n",
       " 'order',\n",
       " 'lose',\n",
       " 'place',\n",
       " 'line',\n",
       " 'cancel',\n",
       " 'distributor',\n",
       " 'stock',\n",
       " 'moment',\n",
       " 'prefer',\n",
       " 'cancel',\n",
       " 'please',\n",
       " 'note',\n",
       " 'ask',\n",
       " 'via',\n",
       " 'email',\n",
       " 'cancel',\n",
       " 'accordance',\n",
       " 'cancellation',\n",
       " 'policy',\n",
       " 'agreed',\n",
       " 'checkout',\n",
       " 'electronic',\n",
       " 'inventory',\n",
       " 'online',\n",
       " 'requested',\n",
       " 'order',\n",
       " 'canceled',\n",
       " 'refund',\n",
       " 'issued',\n",
       " 'canceled',\n",
       " 'order',\n",
       " 'sent',\n",
       " 'verification',\n",
       " 'order',\n",
       " 'canceled',\n",
       " 'refunded',\n",
       " 'item',\n",
       " 'particulate',\n",
       " 'respirator',\n",
       " 'refunded',\n",
       " 'subtotal',\n",
       " 'shipping',\n",
       " 'tax',\n",
       " 'total',\n",
       " 'usd',\n",
       " 'visa',\n",
       " 'ending',\n",
       " 'refund',\n",
       " 'called',\n",
       " 'disputed',\n",
       " 'amount',\n",
       " 'stated',\n",
       " 'nothing',\n",
       " 'needed',\n",
       " 'submitted',\n",
       " 'address',\n",
       " 'issue',\n",
       " 'recharged',\n",
       " 'item',\n",
       " 'removing',\n",
       " 'called',\n",
       " 'back',\n",
       " 'dispute',\n",
       " 'amount',\n",
       " 'transaction',\n",
       " 'rebillmerchandiserobert',\n",
       " 'purchased',\n",
       " 'thu',\n",
       " 'posted',\n",
       " 'wed',\n",
       " 'purchased',\n",
       " 'appears',\n",
       " 'statement',\n",
       " 'transaction',\n",
       " 'rebill',\n",
       " 'followed',\n",
       " 'see',\n",
       " 'status',\n",
       " 'case',\n",
       " 'submitted',\n",
       " 'documentation',\n",
       " 'showing',\n",
       " 'canceled',\n",
       " 'order',\n",
       " 'supposed',\n",
       " 'submit',\n",
       " 'refund',\n",
       " 'called',\n",
       " 'back',\n",
       " 'speak',\n",
       " 'manager',\n",
       " 'case',\n",
       " 'stated',\n",
       " 'dispute',\n",
       " 'ruled',\n",
       " 'favor',\n",
       " 'charge',\n",
       " 'removed',\n",
       " 'card',\n",
       " 'capital',\n",
       " 'one',\n",
       " 'removed',\n",
       " 'purchase',\n",
       " 'bill',\n",
       " 'purchase',\n",
       " 'adjustmentmerchandiserobert',\n",
       " 'posted',\n",
       " 'fri',\n",
       " 'purchased',\n",
       " 'appears',\n",
       " 'statement',\n",
       " 'purchase',\n",
       " 'adjustment',\n",
       " 'capital',\n",
       " 'one',\n",
       " 'recharges',\n",
       " 'amount',\n",
       " 'transaction',\n",
       " 'rebillmerchandiserobert',\n",
       " 'purchased',\n",
       " 'thu',\n",
       " 'posted',\n",
       " 'mon',\n",
       " 'purchased',\n",
       " 'appears',\n",
       " 'statement',\n",
       " 'transaction',\n",
       " 'rebill',\n",
       " 'called',\n",
       " 'capital',\n",
       " 'one',\n",
       " 'requested',\n",
       " 'recharge',\n",
       " 'stated',\n",
       " 'visa',\n",
       " 'ruled',\n",
       " 'case',\n",
       " 'pretended',\n",
       " 'remove',\n",
       " 'purchase',\n",
       " 'knew',\n",
       " 'anything',\n",
       " 'case',\n",
       " 'manager',\n",
       " 'ruling',\n",
       " 'favor']"
      ]
     },
     "execution_count": 10,
     "metadata": {},
     "output_type": "execute_result"
    }
   ],
   "source": [
    "text_clean(df['narrative'].values[0])"
   ]
  },
  {
   "cell_type": "code",
   "execution_count": null,
   "id": "4bb88c04",
   "metadata": {},
   "outputs": [],
   "source": []
  },
  {
   "cell_type": "code",
   "execution_count": 11,
   "id": "50de575e",
   "metadata": {},
   "outputs": [],
   "source": [
    "from sklearn.feature_extraction.text import TfidfVectorizer"
   ]
  },
  {
   "cell_type": "code",
   "execution_count": 12,
   "id": "48565a5a",
   "metadata": {},
   "outputs": [],
   "source": [
    "tfidf = TfidfVectorizer(analyzer = text_clean)\n",
    "\n",
    "x_tfidf = tfidf.fit_transform(df['narrative'])"
   ]
  },
  {
   "cell_type": "code",
   "execution_count": 14,
   "id": "0aca7dc4",
   "metadata": {},
   "outputs": [
    {
     "data": {
      "text/plain": [
       "<162411x45514 sparse matrix of type '<class 'numpy.float64'>'\n",
       "\twith 8411474 stored elements in Compressed Sparse Row format>"
      ]
     },
     "execution_count": 14,
     "metadata": {},
     "output_type": "execute_result"
    }
   ],
   "source": [
    "x_tfidf"
   ]
  },
  {
   "cell_type": "code",
   "execution_count": null,
   "id": "a2dfcdfe",
   "metadata": {},
   "outputs": [],
   "source": []
  },
  {
   "cell_type": "code",
   "execution_count": 15,
   "id": "8c09c153",
   "metadata": {},
   "outputs": [],
   "source": [
    "from sklearn.model_selection import train_test_split\n",
    "from sklearn.ensemble import RandomForestClassifier\n",
    "from sklearn.metrics import *"
   ]
  },
  {
   "cell_type": "code",
   "execution_count": null,
   "id": "ceaf3a2d",
   "metadata": {},
   "outputs": [],
   "source": []
  },
  {
   "cell_type": "code",
   "execution_count": 16,
   "id": "945823e0",
   "metadata": {},
   "outputs": [],
   "source": [
    "X_train, X_test, y_train, y_test = train_test_split(x_tfidf, df['product'], test_size=0.2, random_state=42)"
   ]
  },
  {
   "cell_type": "code",
   "execution_count": null,
   "id": "8c5a67a6",
   "metadata": {},
   "outputs": [],
   "source": []
  },
  {
   "cell_type": "code",
   "execution_count": 16,
   "id": "9c42baf5",
   "metadata": {},
   "outputs": [
    {
     "name": "stdout",
     "output_type": "stream",
     "text": [
      "                     precision    recall  f1-score   support\n",
      "\n",
      "        credit_card       0.79      0.77      0.78      3132\n",
      "   credit_reporting       0.90      0.94      0.92     18283\n",
      "    debt_collection       0.81      0.73      0.77      4615\n",
      "mortgages_and_loans       0.85      0.81      0.83      3770\n",
      "     retail_banking       0.86      0.87      0.86      2683\n",
      "\n",
      "           accuracy                           0.87     32483\n",
      "          macro avg       0.84      0.82      0.83     32483\n",
      "       weighted avg       0.87      0.87      0.87     32483\n",
      "\n"
     ]
    }
   ],
   "source": [
    "from sklearn.svm import LinearSVC\n",
    "LVC=LinearSVC()\n",
    "LVC.fit(X_train,y_train)\n",
    "\n",
    "y_pred_LVC=LVC.predict(X_test)\n",
    "\n",
    "print(classification_report(y_test,y_pred_LVC))"
   ]
  },
  {
   "cell_type": "code",
   "execution_count": null,
   "id": "eec0a2a2",
   "metadata": {},
   "outputs": [],
   "source": []
  },
  {
   "cell_type": "code",
   "execution_count": 17,
   "id": "cad2b6f3",
   "metadata": {},
   "outputs": [
    {
     "name": "stdout",
     "output_type": "stream",
     "text": [
      "                     precision    recall  f1-score   support\n",
      "\n",
      "        credit_card       0.67      0.65      0.66      3132\n",
      "   credit_reporting       0.89      0.92      0.91     18283\n",
      "    debt_collection       0.73      0.67      0.70      4615\n",
      "mortgages_and_loans       0.76      0.72      0.74      3770\n",
      "     retail_banking       0.75      0.74      0.74      2683\n",
      "\n",
      "           accuracy                           0.82     32483\n",
      "          macro avg       0.76      0.74      0.75     32483\n",
      "       weighted avg       0.82      0.82      0.82     32483\n",
      "\n"
     ]
    }
   ],
   "source": [
    "from sklearn.tree import DecisionTreeClassifier\n",
    "\n",
    "tree = DecisionTreeClassifier()\n",
    "tree.fit(X_train,y_train)\n",
    "\n",
    "y_pred_tree=tree.predict(X_test)\n",
    "\n",
    "print(classification_report(y_test,y_pred_tree))"
   ]
  },
  {
   "cell_type": "code",
   "execution_count": null,
   "id": "da881dc5",
   "metadata": {},
   "outputs": [],
   "source": []
  },
  {
   "cell_type": "code",
   "execution_count": 17,
   "id": "df08f1ad",
   "metadata": {},
   "outputs": [
    {
     "name": "stdout",
     "output_type": "stream",
     "text": [
      "                     precision    recall  f1-score   support\n",
      "\n",
      "        credit_card       0.79      0.77      0.78      3132\n",
      "   credit_reporting       0.90      0.94      0.92     18283\n",
      "    debt_collection       0.82      0.72      0.77      4615\n",
      "mortgages_and_loans       0.86      0.82      0.84      3770\n",
      "     retail_banking       0.87      0.89      0.88      2683\n",
      "\n",
      "           accuracy                           0.87     32483\n",
      "          macro avg       0.85      0.83      0.84     32483\n",
      "       weighted avg       0.87      0.87      0.87     32483\n",
      "\n"
     ]
    }
   ],
   "source": [
    "from sklearn.linear_model import LogisticRegression\n",
    "\n",
    "lreg = LogisticRegression(max_iter = 500)\n",
    "lreg.fit(X_train,y_train)\n",
    "\n",
    "y_pred_lreg=lreg.predict(X_test)\n",
    "\n",
    "print(classification_report(y_test,y_pred_lreg))"
   ]
  },
  {
   "cell_type": "code",
   "execution_count": null,
   "id": "1ece9e60",
   "metadata": {},
   "outputs": [],
   "source": []
  },
  {
   "cell_type": "code",
   "execution_count": null,
   "id": "26e45dd1",
   "metadata": {},
   "outputs": [],
   "source": []
  },
  {
   "cell_type": "code",
   "execution_count": 18,
   "id": "ff201a2c",
   "metadata": {},
   "outputs": [],
   "source": [
    "from sklearn.model_selection import GridSearchCV\n",
    "from sklearn.linear_model import LogisticRegression"
   ]
  },
  {
   "cell_type": "code",
   "execution_count": 19,
   "id": "1fbba45f",
   "metadata": {},
   "outputs": [],
   "source": [
    "param_grid = {\n",
    "    'C': [0.001, 0.01, 0.1, 1, 10, 100],\n",
    "    'penalty': ['l1', 'l2'],\n",
    "    'max_iter': [500, 1000, 10000],\n",
    "}\n",
    "\n",
    "grid_search = GridSearchCV(LogisticRegression(), param_grid, cv=5, scoring='accuracy')"
   ]
  },
  {
   "cell_type": "code",
   "execution_count": 20,
   "id": "19f60468",
   "metadata": {},
   "outputs": [
    {
     "name": "stderr",
     "output_type": "stream",
     "text": [
      "D:\\Anaconda3\\lib\\site-packages\\sklearn\\linear_model\\_logistic.py:814: ConvergenceWarning: lbfgs failed to converge (status=1):\n",
      "STOP: TOTAL NO. of ITERATIONS REACHED LIMIT.\n",
      "\n",
      "Increase the number of iterations (max_iter) or scale the data as shown in:\n",
      "    https://scikit-learn.org/stable/modules/preprocessing.html\n",
      "Please also refer to the documentation for alternative solver options:\n",
      "    https://scikit-learn.org/stable/modules/linear_model.html#logistic-regression\n",
      "  n_iter_i = _check_optimize_result(\n",
      "D:\\Anaconda3\\lib\\site-packages\\sklearn\\linear_model\\_logistic.py:814: ConvergenceWarning: lbfgs failed to converge (status=1):\n",
      "STOP: TOTAL NO. of ITERATIONS REACHED LIMIT.\n",
      "\n",
      "Increase the number of iterations (max_iter) or scale the data as shown in:\n",
      "    https://scikit-learn.org/stable/modules/preprocessing.html\n",
      "Please also refer to the documentation for alternative solver options:\n",
      "    https://scikit-learn.org/stable/modules/linear_model.html#logistic-regression\n",
      "  n_iter_i = _check_optimize_result(\n",
      "D:\\Anaconda3\\lib\\site-packages\\sklearn\\linear_model\\_logistic.py:814: ConvergenceWarning: lbfgs failed to converge (status=1):\n",
      "STOP: TOTAL NO. of ITERATIONS REACHED LIMIT.\n",
      "\n",
      "Increase the number of iterations (max_iter) or scale the data as shown in:\n",
      "    https://scikit-learn.org/stable/modules/preprocessing.html\n",
      "Please also refer to the documentation for alternative solver options:\n",
      "    https://scikit-learn.org/stable/modules/linear_model.html#logistic-regression\n",
      "  n_iter_i = _check_optimize_result(\n",
      "D:\\Anaconda3\\lib\\site-packages\\sklearn\\linear_model\\_logistic.py:814: ConvergenceWarning: lbfgs failed to converge (status=1):\n",
      "STOP: TOTAL NO. of ITERATIONS REACHED LIMIT.\n",
      "\n",
      "Increase the number of iterations (max_iter) or scale the data as shown in:\n",
      "    https://scikit-learn.org/stable/modules/preprocessing.html\n",
      "Please also refer to the documentation for alternative solver options:\n",
      "    https://scikit-learn.org/stable/modules/linear_model.html#logistic-regression\n",
      "  n_iter_i = _check_optimize_result(\n",
      "D:\\Anaconda3\\lib\\site-packages\\sklearn\\linear_model\\_logistic.py:814: ConvergenceWarning: lbfgs failed to converge (status=1):\n",
      "STOP: TOTAL NO. of ITERATIONS REACHED LIMIT.\n",
      "\n",
      "Increase the number of iterations (max_iter) or scale the data as shown in:\n",
      "    https://scikit-learn.org/stable/modules/preprocessing.html\n",
      "Please also refer to the documentation for alternative solver options:\n",
      "    https://scikit-learn.org/stable/modules/linear_model.html#logistic-regression\n",
      "  n_iter_i = _check_optimize_result(\n",
      "D:\\Anaconda3\\lib\\site-packages\\sklearn\\linear_model\\_logistic.py:814: ConvergenceWarning: lbfgs failed to converge (status=1):\n",
      "STOP: TOTAL NO. of ITERATIONS REACHED LIMIT.\n",
      "\n",
      "Increase the number of iterations (max_iter) or scale the data as shown in:\n",
      "    https://scikit-learn.org/stable/modules/preprocessing.html\n",
      "Please also refer to the documentation for alternative solver options:\n",
      "    https://scikit-learn.org/stable/modules/linear_model.html#logistic-regression\n",
      "  n_iter_i = _check_optimize_result(\n",
      "D:\\Anaconda3\\lib\\site-packages\\sklearn\\linear_model\\_logistic.py:814: ConvergenceWarning: lbfgs failed to converge (status=1):\n",
      "STOP: TOTAL NO. of ITERATIONS REACHED LIMIT.\n",
      "\n",
      "Increase the number of iterations (max_iter) or scale the data as shown in:\n",
      "    https://scikit-learn.org/stable/modules/preprocessing.html\n",
      "Please also refer to the documentation for alternative solver options:\n",
      "    https://scikit-learn.org/stable/modules/linear_model.html#logistic-regression\n",
      "  n_iter_i = _check_optimize_result(\n",
      "D:\\Anaconda3\\lib\\site-packages\\sklearn\\linear_model\\_logistic.py:814: ConvergenceWarning: lbfgs failed to converge (status=1):\n",
      "STOP: TOTAL NO. of ITERATIONS REACHED LIMIT.\n",
      "\n",
      "Increase the number of iterations (max_iter) or scale the data as shown in:\n",
      "    https://scikit-learn.org/stable/modules/preprocessing.html\n",
      "Please also refer to the documentation for alternative solver options:\n",
      "    https://scikit-learn.org/stable/modules/linear_model.html#logistic-regression\n",
      "  n_iter_i = _check_optimize_result(\n",
      "D:\\Anaconda3\\lib\\site-packages\\sklearn\\linear_model\\_logistic.py:814: ConvergenceWarning: lbfgs failed to converge (status=1):\n",
      "STOP: TOTAL NO. of ITERATIONS REACHED LIMIT.\n",
      "\n",
      "Increase the number of iterations (max_iter) or scale the data as shown in:\n",
      "    https://scikit-learn.org/stable/modules/preprocessing.html\n",
      "Please also refer to the documentation for alternative solver options:\n",
      "    https://scikit-learn.org/stable/modules/linear_model.html#logistic-regression\n",
      "  n_iter_i = _check_optimize_result(\n",
      "D:\\Anaconda3\\lib\\site-packages\\sklearn\\linear_model\\_logistic.py:814: ConvergenceWarning: lbfgs failed to converge (status=1):\n",
      "STOP: TOTAL NO. of ITERATIONS REACHED LIMIT.\n",
      "\n",
      "Increase the number of iterations (max_iter) or scale the data as shown in:\n",
      "    https://scikit-learn.org/stable/modules/preprocessing.html\n",
      "Please also refer to the documentation for alternative solver options:\n",
      "    https://scikit-learn.org/stable/modules/linear_model.html#logistic-regression\n",
      "  n_iter_i = _check_optimize_result(\n",
      "D:\\Anaconda3\\lib\\site-packages\\sklearn\\linear_model\\_logistic.py:814: ConvergenceWarning: lbfgs failed to converge (status=1):\n",
      "STOP: TOTAL NO. of ITERATIONS REACHED LIMIT.\n",
      "\n",
      "Increase the number of iterations (max_iter) or scale the data as shown in:\n",
      "    https://scikit-learn.org/stable/modules/preprocessing.html\n",
      "Please also refer to the documentation for alternative solver options:\n",
      "    https://scikit-learn.org/stable/modules/linear_model.html#logistic-regression\n",
      "  n_iter_i = _check_optimize_result(\n",
      "D:\\Anaconda3\\lib\\site-packages\\sklearn\\linear_model\\_logistic.py:814: ConvergenceWarning: lbfgs failed to converge (status=1):\n",
      "STOP: TOTAL NO. of ITERATIONS REACHED LIMIT.\n",
      "\n",
      "Increase the number of iterations (max_iter) or scale the data as shown in:\n",
      "    https://scikit-learn.org/stable/modules/preprocessing.html\n",
      "Please also refer to the documentation for alternative solver options:\n",
      "    https://scikit-learn.org/stable/modules/linear_model.html#logistic-regression\n",
      "  n_iter_i = _check_optimize_result(\n",
      "D:\\Anaconda3\\lib\\site-packages\\sklearn\\linear_model\\_logistic.py:814: ConvergenceWarning: lbfgs failed to converge (status=1):\n",
      "STOP: TOTAL NO. of ITERATIONS REACHED LIMIT.\n",
      "\n",
      "Increase the number of iterations (max_iter) or scale the data as shown in:\n",
      "    https://scikit-learn.org/stable/modules/preprocessing.html\n",
      "Please also refer to the documentation for alternative solver options:\n",
      "    https://scikit-learn.org/stable/modules/linear_model.html#logistic-regression\n",
      "  n_iter_i = _check_optimize_result(\n",
      "D:\\Anaconda3\\lib\\site-packages\\sklearn\\linear_model\\_logistic.py:814: ConvergenceWarning: lbfgs failed to converge (status=1):\n",
      "STOP: TOTAL NO. of ITERATIONS REACHED LIMIT.\n",
      "\n",
      "Increase the number of iterations (max_iter) or scale the data as shown in:\n",
      "    https://scikit-learn.org/stable/modules/preprocessing.html\n",
      "Please also refer to the documentation for alternative solver options:\n",
      "    https://scikit-learn.org/stable/modules/linear_model.html#logistic-regression\n",
      "  n_iter_i = _check_optimize_result(\n",
      "D:\\Anaconda3\\lib\\site-packages\\sklearn\\linear_model\\_logistic.py:814: ConvergenceWarning: lbfgs failed to converge (status=1):\n",
      "STOP: TOTAL NO. of ITERATIONS REACHED LIMIT.\n",
      "\n",
      "Increase the number of iterations (max_iter) or scale the data as shown in:\n",
      "    https://scikit-learn.org/stable/modules/preprocessing.html\n",
      "Please also refer to the documentation for alternative solver options:\n",
      "    https://scikit-learn.org/stable/modules/linear_model.html#logistic-regression\n",
      "  n_iter_i = _check_optimize_result(\n",
      "D:\\Anaconda3\\lib\\site-packages\\sklearn\\model_selection\\_validation.py:372: FitFailedWarning: \n",
      "90 fits failed out of a total of 180.\n",
      "The score on these train-test partitions for these parameters will be set to nan.\n",
      "If these failures are not expected, you can try to debug them by setting error_score='raise'.\n",
      "\n",
      "Below are more details about the failures:\n",
      "--------------------------------------------------------------------------------\n",
      "90 fits failed with the following error:\n",
      "Traceback (most recent call last):\n",
      "  File \"D:\\Anaconda3\\lib\\site-packages\\sklearn\\model_selection\\_validation.py\", line 680, in _fit_and_score\n",
      "    estimator.fit(X_train, y_train, **fit_params)\n",
      "  File \"D:\\Anaconda3\\lib\\site-packages\\sklearn\\linear_model\\_logistic.py\", line 1461, in fit\n",
      "    solver = _check_solver(self.solver, self.penalty, self.dual)\n",
      "  File \"D:\\Anaconda3\\lib\\site-packages\\sklearn\\linear_model\\_logistic.py\", line 447, in _check_solver\n",
      "    raise ValueError(\n",
      "ValueError: Solver lbfgs supports only 'l2' or 'none' penalties, got l1 penalty.\n",
      "\n",
      "  warnings.warn(some_fits_failed_message, FitFailedWarning)\n",
      "D:\\Anaconda3\\lib\\site-packages\\sklearn\\model_selection\\_search.py:969: UserWarning: One or more of the test scores are non-finite: [       nan 0.56113386        nan 0.56113386        nan 0.56113386\n",
      "        nan 0.7917693         nan 0.7917693         nan 0.7917693\n",
      "        nan 0.85725941        nan 0.85725941        nan 0.85725941\n",
      "        nan 0.87205223        nan 0.87205223        nan 0.87205223\n",
      "        nan 0.86789607        nan 0.86795764        nan 0.86795764\n",
      "        nan 0.85157163        nan 0.85058648        nan 0.85034789]\n",
      "  warnings.warn(\n"
     ]
    },
    {
     "data": {
      "text/plain": [
       "GridSearchCV(cv=5, estimator=LogisticRegression(),\n",
       "             param_grid={'C': [0.001, 0.01, 0.1, 1, 10, 100],\n",
       "                         'max_iter': [500, 1000, 10000],\n",
       "                         'penalty': ['l1', 'l2']},\n",
       "             scoring='accuracy')"
      ]
     },
     "execution_count": 20,
     "metadata": {},
     "output_type": "execute_result"
    }
   ],
   "source": [
    "grid_search.fit(X_train, y_train)"
   ]
  },
  {
   "cell_type": "code",
   "execution_count": 21,
   "id": "503baad4",
   "metadata": {},
   "outputs": [],
   "source": [
    "best_params = grid_search.best_params_\n",
    "best_estimator = grid_search.best_estimator_"
   ]
  },
  {
   "cell_type": "code",
   "execution_count": 22,
   "id": "d3b98911",
   "metadata": {},
   "outputs": [
    {
     "name": "stdout",
     "output_type": "stream",
     "text": [
      "{'C': 1, 'max_iter': 500, 'penalty': 'l2'}\n",
      "LogisticRegression(C=1, max_iter=500)\n"
     ]
    }
   ],
   "source": [
    "print(best_params)\n",
    "print(best_estimator)"
   ]
  },
  {
   "cell_type": "code",
   "execution_count": 23,
   "id": "e90ba489",
   "metadata": {},
   "outputs": [],
   "source": [
    "y_pred_lreg = best_estimator.predict(X_test)"
   ]
  },
  {
   "cell_type": "code",
   "execution_count": 24,
   "id": "b92fbd29",
   "metadata": {},
   "outputs": [
    {
     "name": "stdout",
     "output_type": "stream",
     "text": [
      "                     precision    recall  f1-score   support\n",
      "\n",
      "        credit_card       0.79      0.77      0.78      3132\n",
      "   credit_reporting       0.90      0.94      0.92     18283\n",
      "    debt_collection       0.82      0.72      0.77      4615\n",
      "mortgages_and_loans       0.86      0.82      0.84      3770\n",
      "     retail_banking       0.87      0.89      0.88      2683\n",
      "\n",
      "           accuracy                           0.87     32483\n",
      "          macro avg       0.85      0.83      0.84     32483\n",
      "       weighted avg       0.87      0.87      0.87     32483\n",
      "\n"
     ]
    }
   ],
   "source": [
    "print(classification_report(y_test, y_pred_lreg))"
   ]
  }
 ],
 "metadata": {
  "kernelspec": {
   "display_name": "Python 3 (ipykernel)",
   "language": "python",
   "name": "python3"
  },
  "language_info": {
   "codemirror_mode": {
    "name": "ipython",
    "version": 3
   },
   "file_extension": ".py",
   "mimetype": "text/x-python",
   "name": "python",
   "nbconvert_exporter": "python",
   "pygments_lexer": "ipython3",
   "version": "3.9.13"
  }
 },
 "nbformat": 4,
 "nbformat_minor": 5
}
